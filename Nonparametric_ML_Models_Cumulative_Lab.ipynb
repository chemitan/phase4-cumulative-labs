{
  "cells": [
    {
      "cell_type": "markdown",
      "metadata": {
        "id": "yQi8ezk-UiWh"
      },
      "source": [
        "# Nonparametric ML Models - Cumulative Lab\n",
        "\n",
        "## Introduction\n",
        "\n",
        "In this cumulative lab, you will apply two nonparametric models you have just learned — k-nearest neighbors and decision trees — to the forest cover dataset.\n",
        "\n",
        "## Objectives\n",
        "\n",
        "* Practice identifying and applying appropriate preprocessing steps\n",
        "* Perform an iterative modeling process, starting from a baseline model\n",
        "* Explore multiple model algorithms, and tune their hyperparameters\n",
        "* Practice choosing a final model across multiple model algorithms and evaluating its performance"
      ]
    },
    {
      "cell_type": "markdown",
      "metadata": {
        "id": "y86P3FGEUiWm"
      },
      "source": [
        "## Your Task: Complete an End-to-End ML Process with Nonparametric Models on the Forest Cover Dataset\n",
        "\n",
        "![line of pine trees](https://curriculum-content.s3.amazonaws.com/data-science/images/trees.jpg)\n",
        "\n",
        "Photo by <a href=\"https://unsplash.com/@michaelbenz?utm_source=unsplash&utm_medium=referral&utm_content=creditCopyText\">Michael Benz</a> on <a href=\"/s/photos/forest?utm_source=unsplash&utm_medium=referral&utm_content=creditCopyText\">Unsplash</a>"
      ]
    },
    {
      "cell_type": "markdown",
      "metadata": {
        "id": "j-yIMmSyUiWn"
      },
      "source": [
        "### Business and Data Understanding\n",
        "\n",
        "To repeat the previous description:\n",
        "\n",
        "> Here we will be using an adapted version of the forest cover dataset from the [UCI Machine Learning Repository](https://archive.ics.uci.edu/ml/datasets/covertype). Each record represents a 30 x 30 meter cell of land within Roosevelt National Forest in northern Colorado, which has been labeled as `Cover_Type` 1 for \"Cottonwood/Willow\" and `Cover_Type` 0 for \"Ponderosa Pine\". (The original dataset contained 7 cover types but we have simplified it.)\n",
        "\n",
        "The task is to predict the `Cover_Type` based on the available cartographic variables:"
      ]
    },
    {
      "cell_type": "code",
      "execution_count": 1,
      "metadata": {
        "id": "Bfwk1GBpUiWn",
        "colab": {
          "base_uri": "https://localhost:8080/",
          "height": 444
        },
        "outputId": "cfb733ff-d88b-4d31-9006-5b340708455d"
      },
      "outputs": [
        {
          "output_type": "execute_result",
          "data": {
            "text/plain": [
              "       Elevation  Aspect  Slope  Horizontal_Distance_To_Hydrology  \\\n",
              "0           2553     235     17                               351   \n",
              "1           2011     344     17                               313   \n",
              "2           2022      24     13                               391   \n",
              "3           2038      50     17                               408   \n",
              "4           2018     341     27                               351   \n",
              "...          ...     ...    ...                               ...   \n",
              "38496       2396     153     20                                85   \n",
              "38497       2391     152     19                                67   \n",
              "38498       2386     159     17                                60   \n",
              "38499       2384     170     15                                60   \n",
              "38500       2383     165     13                                60   \n",
              "\n",
              "       Vertical_Distance_To_Hydrology  Horizontal_Distance_To_Roadways  \\\n",
              "0                                  95                              780   \n",
              "1                                  29                              404   \n",
              "2                                  42                              509   \n",
              "3                                  71                              474   \n",
              "4                                  34                              390   \n",
              "...                               ...                              ...   \n",
              "38496                              17                              108   \n",
              "38497                              12                               95   \n",
              "38498                               7                               90   \n",
              "38499                               5                               90   \n",
              "38500                               4                               67   \n",
              "\n",
              "       Hillshade_9am  Hillshade_Noon  Hillshade_3pm  \\\n",
              "0                188             253            199   \n",
              "1                183             211            164   \n",
              "2                212             212            134   \n",
              "3                226             200            102   \n",
              "4                152             188            168   \n",
              "...              ...             ...            ...   \n",
              "38496            240             237            118   \n",
              "38497            240             237            119   \n",
              "38498            236             241            130   \n",
              "38499            230             245            143   \n",
              "38500            231             244            141   \n",
              "\n",
              "       Horizontal_Distance_To_Fire_Points  ...  Soil_Type_31  Soil_Type_32  \\\n",
              "0                                    1410  ...             0             0   \n",
              "1                                     300  ...             0             0   \n",
              "2                                     421  ...             0             0   \n",
              "3                                     283  ...             0             0   \n",
              "4                                     190  ...             0             0   \n",
              "...                                   ...  ...           ...           ...   \n",
              "38496                                 837  ...             0             0   \n",
              "38497                                 845  ...             0             0   \n",
              "38498                                 854  ...             0             0   \n",
              "38499                                 864  ...             0             0   \n",
              "38500                                 875  ...             0             0   \n",
              "\n",
              "       Soil_Type_33  Soil_Type_34  Soil_Type_35  Soil_Type_36  Soil_Type_37  \\\n",
              "0                 0             0             0             0             0   \n",
              "1                 0             0             0             0             0   \n",
              "2                 0             0             0             0             0   \n",
              "3                 0             0             0             0             0   \n",
              "4                 0             0             0             0             0   \n",
              "...             ...           ...           ...           ...           ...   \n",
              "38496             0             0             0             0             0   \n",
              "38497             0             0             0             0             0   \n",
              "38498             0             0             0             0             0   \n",
              "38499             0             0             0             0             0   \n",
              "38500             0             0             0             0             0   \n",
              "\n",
              "       Soil_Type_38  Soil_Type_39  Cover_Type  \n",
              "0                 0             0           0  \n",
              "1                 0             0           0  \n",
              "2                 0             0           0  \n",
              "3                 0             0           0  \n",
              "4                 0             0           0  \n",
              "...             ...           ...         ...  \n",
              "38496             0             0           0  \n",
              "38497             0             0           0  \n",
              "38498             0             0           0  \n",
              "38499             0             0           0  \n",
              "38500             0             0           0  \n",
              "\n",
              "[38501 rows x 53 columns]"
            ],
            "text/html": [
              "\n",
              "  <div id=\"df-12568de7-4fa2-4fb1-bd39-c136b940fbf3\" class=\"colab-df-container\">\n",
              "    <div>\n",
              "<style scoped>\n",
              "    .dataframe tbody tr th:only-of-type {\n",
              "        vertical-align: middle;\n",
              "    }\n",
              "\n",
              "    .dataframe tbody tr th {\n",
              "        vertical-align: top;\n",
              "    }\n",
              "\n",
              "    .dataframe thead th {\n",
              "        text-align: right;\n",
              "    }\n",
              "</style>\n",
              "<table border=\"1\" class=\"dataframe\">\n",
              "  <thead>\n",
              "    <tr style=\"text-align: right;\">\n",
              "      <th></th>\n",
              "      <th>Elevation</th>\n",
              "      <th>Aspect</th>\n",
              "      <th>Slope</th>\n",
              "      <th>Horizontal_Distance_To_Hydrology</th>\n",
              "      <th>Vertical_Distance_To_Hydrology</th>\n",
              "      <th>Horizontal_Distance_To_Roadways</th>\n",
              "      <th>Hillshade_9am</th>\n",
              "      <th>Hillshade_Noon</th>\n",
              "      <th>Hillshade_3pm</th>\n",
              "      <th>Horizontal_Distance_To_Fire_Points</th>\n",
              "      <th>...</th>\n",
              "      <th>Soil_Type_31</th>\n",
              "      <th>Soil_Type_32</th>\n",
              "      <th>Soil_Type_33</th>\n",
              "      <th>Soil_Type_34</th>\n",
              "      <th>Soil_Type_35</th>\n",
              "      <th>Soil_Type_36</th>\n",
              "      <th>Soil_Type_37</th>\n",
              "      <th>Soil_Type_38</th>\n",
              "      <th>Soil_Type_39</th>\n",
              "      <th>Cover_Type</th>\n",
              "    </tr>\n",
              "  </thead>\n",
              "  <tbody>\n",
              "    <tr>\n",
              "      <th>0</th>\n",
              "      <td>2553</td>\n",
              "      <td>235</td>\n",
              "      <td>17</td>\n",
              "      <td>351</td>\n",
              "      <td>95</td>\n",
              "      <td>780</td>\n",
              "      <td>188</td>\n",
              "      <td>253</td>\n",
              "      <td>199</td>\n",
              "      <td>1410</td>\n",
              "      <td>...</td>\n",
              "      <td>0</td>\n",
              "      <td>0</td>\n",
              "      <td>0</td>\n",
              "      <td>0</td>\n",
              "      <td>0</td>\n",
              "      <td>0</td>\n",
              "      <td>0</td>\n",
              "      <td>0</td>\n",
              "      <td>0</td>\n",
              "      <td>0</td>\n",
              "    </tr>\n",
              "    <tr>\n",
              "      <th>1</th>\n",
              "      <td>2011</td>\n",
              "      <td>344</td>\n",
              "      <td>17</td>\n",
              "      <td>313</td>\n",
              "      <td>29</td>\n",
              "      <td>404</td>\n",
              "      <td>183</td>\n",
              "      <td>211</td>\n",
              "      <td>164</td>\n",
              "      <td>300</td>\n",
              "      <td>...</td>\n",
              "      <td>0</td>\n",
              "      <td>0</td>\n",
              "      <td>0</td>\n",
              "      <td>0</td>\n",
              "      <td>0</td>\n",
              "      <td>0</td>\n",
              "      <td>0</td>\n",
              "      <td>0</td>\n",
              "      <td>0</td>\n",
              "      <td>0</td>\n",
              "    </tr>\n",
              "    <tr>\n",
              "      <th>2</th>\n",
              "      <td>2022</td>\n",
              "      <td>24</td>\n",
              "      <td>13</td>\n",
              "      <td>391</td>\n",
              "      <td>42</td>\n",
              "      <td>509</td>\n",
              "      <td>212</td>\n",
              "      <td>212</td>\n",
              "      <td>134</td>\n",
              "      <td>421</td>\n",
              "      <td>...</td>\n",
              "      <td>0</td>\n",
              "      <td>0</td>\n",
              "      <td>0</td>\n",
              "      <td>0</td>\n",
              "      <td>0</td>\n",
              "      <td>0</td>\n",
              "      <td>0</td>\n",
              "      <td>0</td>\n",
              "      <td>0</td>\n",
              "      <td>0</td>\n",
              "    </tr>\n",
              "    <tr>\n",
              "      <th>3</th>\n",
              "      <td>2038</td>\n",
              "      <td>50</td>\n",
              "      <td>17</td>\n",
              "      <td>408</td>\n",
              "      <td>71</td>\n",
              "      <td>474</td>\n",
              "      <td>226</td>\n",
              "      <td>200</td>\n",
              "      <td>102</td>\n",
              "      <td>283</td>\n",
              "      <td>...</td>\n",
              "      <td>0</td>\n",
              "      <td>0</td>\n",
              "      <td>0</td>\n",
              "      <td>0</td>\n",
              "      <td>0</td>\n",
              "      <td>0</td>\n",
              "      <td>0</td>\n",
              "      <td>0</td>\n",
              "      <td>0</td>\n",
              "      <td>0</td>\n",
              "    </tr>\n",
              "    <tr>\n",
              "      <th>4</th>\n",
              "      <td>2018</td>\n",
              "      <td>341</td>\n",
              "      <td>27</td>\n",
              "      <td>351</td>\n",
              "      <td>34</td>\n",
              "      <td>390</td>\n",
              "      <td>152</td>\n",
              "      <td>188</td>\n",
              "      <td>168</td>\n",
              "      <td>190</td>\n",
              "      <td>...</td>\n",
              "      <td>0</td>\n",
              "      <td>0</td>\n",
              "      <td>0</td>\n",
              "      <td>0</td>\n",
              "      <td>0</td>\n",
              "      <td>0</td>\n",
              "      <td>0</td>\n",
              "      <td>0</td>\n",
              "      <td>0</td>\n",
              "      <td>0</td>\n",
              "    </tr>\n",
              "    <tr>\n",
              "      <th>...</th>\n",
              "      <td>...</td>\n",
              "      <td>...</td>\n",
              "      <td>...</td>\n",
              "      <td>...</td>\n",
              "      <td>...</td>\n",
              "      <td>...</td>\n",
              "      <td>...</td>\n",
              "      <td>...</td>\n",
              "      <td>...</td>\n",
              "      <td>...</td>\n",
              "      <td>...</td>\n",
              "      <td>...</td>\n",
              "      <td>...</td>\n",
              "      <td>...</td>\n",
              "      <td>...</td>\n",
              "      <td>...</td>\n",
              "      <td>...</td>\n",
              "      <td>...</td>\n",
              "      <td>...</td>\n",
              "      <td>...</td>\n",
              "      <td>...</td>\n",
              "    </tr>\n",
              "    <tr>\n",
              "      <th>38496</th>\n",
              "      <td>2396</td>\n",
              "      <td>153</td>\n",
              "      <td>20</td>\n",
              "      <td>85</td>\n",
              "      <td>17</td>\n",
              "      <td>108</td>\n",
              "      <td>240</td>\n",
              "      <td>237</td>\n",
              "      <td>118</td>\n",
              "      <td>837</td>\n",
              "      <td>...</td>\n",
              "      <td>0</td>\n",
              "      <td>0</td>\n",
              "      <td>0</td>\n",
              "      <td>0</td>\n",
              "      <td>0</td>\n",
              "      <td>0</td>\n",
              "      <td>0</td>\n",
              "      <td>0</td>\n",
              "      <td>0</td>\n",
              "      <td>0</td>\n",
              "    </tr>\n",
              "    <tr>\n",
              "      <th>38497</th>\n",
              "      <td>2391</td>\n",
              "      <td>152</td>\n",
              "      <td>19</td>\n",
              "      <td>67</td>\n",
              "      <td>12</td>\n",
              "      <td>95</td>\n",
              "      <td>240</td>\n",
              "      <td>237</td>\n",
              "      <td>119</td>\n",
              "      <td>845</td>\n",
              "      <td>...</td>\n",
              "      <td>0</td>\n",
              "      <td>0</td>\n",
              "      <td>0</td>\n",
              "      <td>0</td>\n",
              "      <td>0</td>\n",
              "      <td>0</td>\n",
              "      <td>0</td>\n",
              "      <td>0</td>\n",
              "      <td>0</td>\n",
              "      <td>0</td>\n",
              "    </tr>\n",
              "    <tr>\n",
              "      <th>38498</th>\n",
              "      <td>2386</td>\n",
              "      <td>159</td>\n",
              "      <td>17</td>\n",
              "      <td>60</td>\n",
              "      <td>7</td>\n",
              "      <td>90</td>\n",
              "      <td>236</td>\n",
              "      <td>241</td>\n",
              "      <td>130</td>\n",
              "      <td>854</td>\n",
              "      <td>...</td>\n",
              "      <td>0</td>\n",
              "      <td>0</td>\n",
              "      <td>0</td>\n",
              "      <td>0</td>\n",
              "      <td>0</td>\n",
              "      <td>0</td>\n",
              "      <td>0</td>\n",
              "      <td>0</td>\n",
              "      <td>0</td>\n",
              "      <td>0</td>\n",
              "    </tr>\n",
              "    <tr>\n",
              "      <th>38499</th>\n",
              "      <td>2384</td>\n",
              "      <td>170</td>\n",
              "      <td>15</td>\n",
              "      <td>60</td>\n",
              "      <td>5</td>\n",
              "      <td>90</td>\n",
              "      <td>230</td>\n",
              "      <td>245</td>\n",
              "      <td>143</td>\n",
              "      <td>864</td>\n",
              "      <td>...</td>\n",
              "      <td>0</td>\n",
              "      <td>0</td>\n",
              "      <td>0</td>\n",
              "      <td>0</td>\n",
              "      <td>0</td>\n",
              "      <td>0</td>\n",
              "      <td>0</td>\n",
              "      <td>0</td>\n",
              "      <td>0</td>\n",
              "      <td>0</td>\n",
              "    </tr>\n",
              "    <tr>\n",
              "      <th>38500</th>\n",
              "      <td>2383</td>\n",
              "      <td>165</td>\n",
              "      <td>13</td>\n",
              "      <td>60</td>\n",
              "      <td>4</td>\n",
              "      <td>67</td>\n",
              "      <td>231</td>\n",
              "      <td>244</td>\n",
              "      <td>141</td>\n",
              "      <td>875</td>\n",
              "      <td>...</td>\n",
              "      <td>0</td>\n",
              "      <td>0</td>\n",
              "      <td>0</td>\n",
              "      <td>0</td>\n",
              "      <td>0</td>\n",
              "      <td>0</td>\n",
              "      <td>0</td>\n",
              "      <td>0</td>\n",
              "      <td>0</td>\n",
              "      <td>0</td>\n",
              "    </tr>\n",
              "  </tbody>\n",
              "</table>\n",
              "<p>38501 rows × 53 columns</p>\n",
              "</div>\n",
              "    <div class=\"colab-df-buttons\">\n",
              "\n",
              "  <div class=\"colab-df-container\">\n",
              "    <button class=\"colab-df-convert\" onclick=\"convertToInteractive('df-12568de7-4fa2-4fb1-bd39-c136b940fbf3')\"\n",
              "            title=\"Convert this dataframe to an interactive table.\"\n",
              "            style=\"display:none;\">\n",
              "\n",
              "  <svg xmlns=\"http://www.w3.org/2000/svg\" height=\"24px\" viewBox=\"0 -960 960 960\">\n",
              "    <path d=\"M120-120v-720h720v720H120Zm60-500h600v-160H180v160Zm220 220h160v-160H400v160Zm0 220h160v-160H400v160ZM180-400h160v-160H180v160Zm440 0h160v-160H620v160ZM180-180h160v-160H180v160Zm440 0h160v-160H620v160Z\"/>\n",
              "  </svg>\n",
              "    </button>\n",
              "\n",
              "  <style>\n",
              "    .colab-df-container {\n",
              "      display:flex;\n",
              "      gap: 12px;\n",
              "    }\n",
              "\n",
              "    .colab-df-convert {\n",
              "      background-color: #E8F0FE;\n",
              "      border: none;\n",
              "      border-radius: 50%;\n",
              "      cursor: pointer;\n",
              "      display: none;\n",
              "      fill: #1967D2;\n",
              "      height: 32px;\n",
              "      padding: 0 0 0 0;\n",
              "      width: 32px;\n",
              "    }\n",
              "\n",
              "    .colab-df-convert:hover {\n",
              "      background-color: #E2EBFA;\n",
              "      box-shadow: 0px 1px 2px rgba(60, 64, 67, 0.3), 0px 1px 3px 1px rgba(60, 64, 67, 0.15);\n",
              "      fill: #174EA6;\n",
              "    }\n",
              "\n",
              "    .colab-df-buttons div {\n",
              "      margin-bottom: 4px;\n",
              "    }\n",
              "\n",
              "    [theme=dark] .colab-df-convert {\n",
              "      background-color: #3B4455;\n",
              "      fill: #D2E3FC;\n",
              "    }\n",
              "\n",
              "    [theme=dark] .colab-df-convert:hover {\n",
              "      background-color: #434B5C;\n",
              "      box-shadow: 0px 1px 3px 1px rgba(0, 0, 0, 0.15);\n",
              "      filter: drop-shadow(0px 1px 2px rgba(0, 0, 0, 0.3));\n",
              "      fill: #FFFFFF;\n",
              "    }\n",
              "  </style>\n",
              "\n",
              "    <script>\n",
              "      const buttonEl =\n",
              "        document.querySelector('#df-12568de7-4fa2-4fb1-bd39-c136b940fbf3 button.colab-df-convert');\n",
              "      buttonEl.style.display =\n",
              "        google.colab.kernel.accessAllowed ? 'block' : 'none';\n",
              "\n",
              "      async function convertToInteractive(key) {\n",
              "        const element = document.querySelector('#df-12568de7-4fa2-4fb1-bd39-c136b940fbf3');\n",
              "        const dataTable =\n",
              "          await google.colab.kernel.invokeFunction('convertToInteractive',\n",
              "                                                    [key], {});\n",
              "        if (!dataTable) return;\n",
              "\n",
              "        const docLinkHtml = 'Like what you see? Visit the ' +\n",
              "          '<a target=\"_blank\" href=https://colab.research.google.com/notebooks/data_table.ipynb>data table notebook</a>'\n",
              "          + ' to learn more about interactive tables.';\n",
              "        element.innerHTML = '';\n",
              "        dataTable['output_type'] = 'display_data';\n",
              "        await google.colab.output.renderOutput(dataTable, element);\n",
              "        const docLink = document.createElement('div');\n",
              "        docLink.innerHTML = docLinkHtml;\n",
              "        element.appendChild(docLink);\n",
              "      }\n",
              "    </script>\n",
              "  </div>\n",
              "\n",
              "\n",
              "<div id=\"df-11f8c612-ca34-42e0-a9fd-b9d54d04b8f0\">\n",
              "  <button class=\"colab-df-quickchart\" onclick=\"quickchart('df-11f8c612-ca34-42e0-a9fd-b9d54d04b8f0')\"\n",
              "            title=\"Suggest charts\"\n",
              "            style=\"display:none;\">\n",
              "\n",
              "<svg xmlns=\"http://www.w3.org/2000/svg\" height=\"24px\"viewBox=\"0 0 24 24\"\n",
              "     width=\"24px\">\n",
              "    <g>\n",
              "        <path d=\"M19 3H5c-1.1 0-2 .9-2 2v14c0 1.1.9 2 2 2h14c1.1 0 2-.9 2-2V5c0-1.1-.9-2-2-2zM9 17H7v-7h2v7zm4 0h-2V7h2v10zm4 0h-2v-4h2v4z\"/>\n",
              "    </g>\n",
              "</svg>\n",
              "  </button>\n",
              "\n",
              "<style>\n",
              "  .colab-df-quickchart {\n",
              "      --bg-color: #E8F0FE;\n",
              "      --fill-color: #1967D2;\n",
              "      --hover-bg-color: #E2EBFA;\n",
              "      --hover-fill-color: #174EA6;\n",
              "      --disabled-fill-color: #AAA;\n",
              "      --disabled-bg-color: #DDD;\n",
              "  }\n",
              "\n",
              "  [theme=dark] .colab-df-quickchart {\n",
              "      --bg-color: #3B4455;\n",
              "      --fill-color: #D2E3FC;\n",
              "      --hover-bg-color: #434B5C;\n",
              "      --hover-fill-color: #FFFFFF;\n",
              "      --disabled-bg-color: #3B4455;\n",
              "      --disabled-fill-color: #666;\n",
              "  }\n",
              "\n",
              "  .colab-df-quickchart {\n",
              "    background-color: var(--bg-color);\n",
              "    border: none;\n",
              "    border-radius: 50%;\n",
              "    cursor: pointer;\n",
              "    display: none;\n",
              "    fill: var(--fill-color);\n",
              "    height: 32px;\n",
              "    padding: 0;\n",
              "    width: 32px;\n",
              "  }\n",
              "\n",
              "  .colab-df-quickchart:hover {\n",
              "    background-color: var(--hover-bg-color);\n",
              "    box-shadow: 0 1px 2px rgba(60, 64, 67, 0.3), 0 1px 3px 1px rgba(60, 64, 67, 0.15);\n",
              "    fill: var(--button-hover-fill-color);\n",
              "  }\n",
              "\n",
              "  .colab-df-quickchart-complete:disabled,\n",
              "  .colab-df-quickchart-complete:disabled:hover {\n",
              "    background-color: var(--disabled-bg-color);\n",
              "    fill: var(--disabled-fill-color);\n",
              "    box-shadow: none;\n",
              "  }\n",
              "\n",
              "  .colab-df-spinner {\n",
              "    border: 2px solid var(--fill-color);\n",
              "    border-color: transparent;\n",
              "    border-bottom-color: var(--fill-color);\n",
              "    animation:\n",
              "      spin 1s steps(1) infinite;\n",
              "  }\n",
              "\n",
              "  @keyframes spin {\n",
              "    0% {\n",
              "      border-color: transparent;\n",
              "      border-bottom-color: var(--fill-color);\n",
              "      border-left-color: var(--fill-color);\n",
              "    }\n",
              "    20% {\n",
              "      border-color: transparent;\n",
              "      border-left-color: var(--fill-color);\n",
              "      border-top-color: var(--fill-color);\n",
              "    }\n",
              "    30% {\n",
              "      border-color: transparent;\n",
              "      border-left-color: var(--fill-color);\n",
              "      border-top-color: var(--fill-color);\n",
              "      border-right-color: var(--fill-color);\n",
              "    }\n",
              "    40% {\n",
              "      border-color: transparent;\n",
              "      border-right-color: var(--fill-color);\n",
              "      border-top-color: var(--fill-color);\n",
              "    }\n",
              "    60% {\n",
              "      border-color: transparent;\n",
              "      border-right-color: var(--fill-color);\n",
              "    }\n",
              "    80% {\n",
              "      border-color: transparent;\n",
              "      border-right-color: var(--fill-color);\n",
              "      border-bottom-color: var(--fill-color);\n",
              "    }\n",
              "    90% {\n",
              "      border-color: transparent;\n",
              "      border-bottom-color: var(--fill-color);\n",
              "    }\n",
              "  }\n",
              "</style>\n",
              "\n",
              "  <script>\n",
              "    async function quickchart(key) {\n",
              "      const quickchartButtonEl =\n",
              "        document.querySelector('#' + key + ' button');\n",
              "      quickchartButtonEl.disabled = true;  // To prevent multiple clicks.\n",
              "      quickchartButtonEl.classList.add('colab-df-spinner');\n",
              "      try {\n",
              "        const charts = await google.colab.kernel.invokeFunction(\n",
              "            'suggestCharts', [key], {});\n",
              "      } catch (error) {\n",
              "        console.error('Error during call to suggestCharts:', error);\n",
              "      }\n",
              "      quickchartButtonEl.classList.remove('colab-df-spinner');\n",
              "      quickchartButtonEl.classList.add('colab-df-quickchart-complete');\n",
              "    }\n",
              "    (() => {\n",
              "      let quickchartButtonEl =\n",
              "        document.querySelector('#df-11f8c612-ca34-42e0-a9fd-b9d54d04b8f0 button');\n",
              "      quickchartButtonEl.style.display =\n",
              "        google.colab.kernel.accessAllowed ? 'block' : 'none';\n",
              "    })();\n",
              "  </script>\n",
              "</div>\n",
              "\n",
              "  <div id=\"id_e4138338-a550-405c-8b0c-7819bf625263\">\n",
              "    <style>\n",
              "      .colab-df-generate {\n",
              "        background-color: #E8F0FE;\n",
              "        border: none;\n",
              "        border-radius: 50%;\n",
              "        cursor: pointer;\n",
              "        display: none;\n",
              "        fill: #1967D2;\n",
              "        height: 32px;\n",
              "        padding: 0 0 0 0;\n",
              "        width: 32px;\n",
              "      }\n",
              "\n",
              "      .colab-df-generate:hover {\n",
              "        background-color: #E2EBFA;\n",
              "        box-shadow: 0px 1px 2px rgba(60, 64, 67, 0.3), 0px 1px 3px 1px rgba(60, 64, 67, 0.15);\n",
              "        fill: #174EA6;\n",
              "      }\n",
              "\n",
              "      [theme=dark] .colab-df-generate {\n",
              "        background-color: #3B4455;\n",
              "        fill: #D2E3FC;\n",
              "      }\n",
              "\n",
              "      [theme=dark] .colab-df-generate:hover {\n",
              "        background-color: #434B5C;\n",
              "        box-shadow: 0px 1px 3px 1px rgba(0, 0, 0, 0.15);\n",
              "        filter: drop-shadow(0px 1px 2px rgba(0, 0, 0, 0.3));\n",
              "        fill: #FFFFFF;\n",
              "      }\n",
              "    </style>\n",
              "    <button class=\"colab-df-generate\" onclick=\"generateWithVariable('df')\"\n",
              "            title=\"Generate code using this dataframe.\"\n",
              "            style=\"display:none;\">\n",
              "\n",
              "  <svg xmlns=\"http://www.w3.org/2000/svg\" height=\"24px\"viewBox=\"0 0 24 24\"\n",
              "       width=\"24px\">\n",
              "    <path d=\"M7,19H8.4L18.45,9,17,7.55,7,17.6ZM5,21V16.75L18.45,3.32a2,2,0,0,1,2.83,0l1.4,1.43a1.91,1.91,0,0,1,.58,1.4,1.91,1.91,0,0,1-.58,1.4L9.25,21ZM18.45,9,17,7.55Zm-12,3A5.31,5.31,0,0,0,4.9,8.1,5.31,5.31,0,0,0,1,6.5,5.31,5.31,0,0,0,4.9,4.9,5.31,5.31,0,0,0,6.5,1,5.31,5.31,0,0,0,8.1,4.9,5.31,5.31,0,0,0,12,6.5,5.46,5.46,0,0,0,6.5,12Z\"/>\n",
              "  </svg>\n",
              "    </button>\n",
              "    <script>\n",
              "      (() => {\n",
              "      const buttonEl =\n",
              "        document.querySelector('#id_e4138338-a550-405c-8b0c-7819bf625263 button.colab-df-generate');\n",
              "      buttonEl.style.display =\n",
              "        google.colab.kernel.accessAllowed ? 'block' : 'none';\n",
              "\n",
              "      buttonEl.onclick = () => {\n",
              "        google.colab.notebook.generateWithVariable('df');\n",
              "      }\n",
              "      })();\n",
              "    </script>\n",
              "  </div>\n",
              "\n",
              "    </div>\n",
              "  </div>\n"
            ],
            "application/vnd.google.colaboratory.intrinsic+json": {
              "type": "dataframe",
              "variable_name": "df"
            }
          },
          "metadata": {},
          "execution_count": 1
        }
      ],
      "source": [
        "# Run this cell without changes\n",
        "import pandas as pd\n",
        "\n",
        "df = pd.read_csv('/content/forest_cover (1).csv')\n",
        "df"
      ]
    },
    {
      "cell_type": "markdown",
      "metadata": {
        "id": "ZXXvdqc8UiWp"
      },
      "source": [
        "> As you can see, we have over 38,000 rows, each with 52 feature columns and 1 target column:\n",
        "\n",
        "> * `Elevation`: Elevation in meters\n",
        "> * `Aspect`: Aspect in degrees azimuth\n",
        "> * `Slope`: Slope in degrees\n",
        "> * `Horizontal_Distance_To_Hydrology`: Horizontal dist to nearest surface water features in meters\n",
        "> * `Vertical_Distance_To_Hydrology`: Vertical dist to nearest surface water features in meters\n",
        "> * `Horizontal_Distance_To_Roadways`: Horizontal dist to nearest roadway in meters\n",
        "> * `Hillshade_9am`: Hillshade index at 9am, summer solstice\n",
        "> * `Hillshade_Noon`: Hillshade index at noon, summer solstice\n",
        "> * `Hillshade_3pm`: Hillshade index at 3pm, summer solstice\n",
        "> * `Horizontal_Distance_To_Fire_Points`: Horizontal dist to nearest wildfire ignition points, meters\n",
        "> * `Wilderness_Area_x`: Wilderness area designation (3 columns)\n",
        "> * `Soil_Type_x`: Soil Type designation (39 columns)\n",
        "> * `Cover_Type`: 1 for cottonwood/willow, 0 for ponderosa pine\n",
        "\n",
        "This is also an imbalanced dataset, since cottonwood/willow trees are relatively rare in this forest:"
      ]
    },
    {
      "cell_type": "code",
      "execution_count": 2,
      "metadata": {
        "id": "xXZaCi1AUiWp",
        "colab": {
          "base_uri": "https://localhost:8080/"
        },
        "outputId": "71383705-385e-436e-e628-6ce44f887ea7"
      },
      "outputs": [
        {
          "output_type": "stream",
          "name": "stdout",
          "text": [
            "Raw Counts\n",
            "Cover_Type\n",
            "0    35754\n",
            "1     2747\n",
            "Name: count, dtype: int64\n",
            "Percentages\n",
            "Cover_Type\n",
            "0    0.928651\n",
            "1    0.071349\n",
            "Name: proportion, dtype: float64\n"
          ]
        }
      ],
      "source": [
        "# Run this cell without changes\n",
        "print(\"Raw Counts\")\n",
        "print(df[\"Cover_Type\"].value_counts())\n",
        "print(\"Percentages\")\n",
        "print(df[\"Cover_Type\"].value_counts(normalize=True))"
      ]
    },
    {
      "cell_type": "markdown",
      "metadata": {
        "id": "sVNPPc-LUiWq"
      },
      "source": [
        "Thus, a baseline model that always chose the majority class would have an accuracy of over 92%. Therefore we will want to report additional metrics at the end."
      ]
    },
    {
      "cell_type": "markdown",
      "metadata": {
        "id": "6YJ2m1J6UiWq"
      },
      "source": [
        "### Previous Best Model\n",
        "\n",
        "In a previous lab, we used SMOTE to create additional synthetic data, then tuned the hyperparameters of a logistic regression model to get the following final model metrics:\n",
        "\n",
        "* **Log loss:** 0.13031294393913376\n",
        "* **Accuracy:** 0.9456679825472678\n",
        "* **Precision:** 0.6659919028340081\n",
        "* **Recall:** 0.47889374090247455\n",
        "\n",
        "In this lab, you will try to beat those scores using more-complex, nonparametric models.\n",
        "\n",
        "### Modeling\n",
        "\n",
        "Although you may be aware of some additional model algorithms available from scikit-learn, for this lab you will be focusing on two of them: k-nearest neighbors and decision trees. Here are some reminders about these models:\n",
        "\n",
        "#### kNN - [documentation here](https://scikit-learn.org/stable/modules/generated/sklearn.neighbors.KNeighborsClassifier.html)\n",
        "\n",
        "This algorithm — unlike linear models or tree-based models — does not emphasize learning the relationship between the features and the target. Instead, for a given test record, it finds the most similar records in the training set and returns an average of their target values.\n",
        "\n",
        "* **Training speed:** Fast. In theory it's just saving the training data for later, although the scikit-learn implementation has some additional logic \"under the hood\" to make prediction faster.\n",
        "* **Prediction speed:** Very slow. The model has to look at every record in the training set to find the k closest to the new record.\n",
        "* **Requires scaling:** Yes. The algorithm to find the nearest records is distance-based, so it matters that distances are all on the same scale.\n",
        "* **Key hyperparameters:** `n_neighbors` (how many nearest neighbors to find; too few neighbors leads to overfitting, too many leads to underfitting), `p` and `metric` (what kind of distance to use in defining \"nearest\" neighbors)\n",
        "\n",
        "#### Decision Trees - [documentation here](https://scikit-learn.org/stable/modules/generated/sklearn.tree.DecisionTreeClassifier.html)\n",
        "\n",
        "Similar to linear models (and unlike kNN), this algorithm emphasizes learning the relationship between the features and the target. However, unlike a linear model that tries to find linear relationships between each of the features and the target, decision trees look for ways to split the data based on features to decrease the entropy of the target in each split.\n",
        "\n",
        "* **Training speed:** Slow. The model is considering splits based on as many as all of the available features, and it can split on the same feature multiple times. This requires exponential computational time that increases based on the number of columns as well as the number of rows.\n",
        "* **Prediction speed:** Medium fast. Producing a prediction with a decision tree means applying several conditional statements, which is slower than something like logistic regression but faster than kNN.\n",
        "* **Requires scaling:** No. This model is not distance-based. You also can use a `LabelEncoder` rather than `OneHotEncoder` for categorical data, since this algorithm doesn't necessarily assume that the distance between `1` and `2` is the same as the distance between `2` and `3`.\n",
        "* **Key hyperparameters:** Many features relating to \"pruning\" the tree. By default they are set so the tree can overfit, and by setting them higher or lower (depending on the hyperparameter) you can reduce overfitting, but too much will lead to underfitting. These are: `max_depth`, `min_samples_split`, `min_samples_leaf`, `min_weight_fraction_leaf`, `max_features`, `max_leaf_nodes`, and `min_impurity_decrease`. You can also try changing the `criterion` to \"entropy\" or the `splitter` to \"random\" if you want to change the splitting logic."
      ]
    },
    {
      "cell_type": "markdown",
      "metadata": {
        "id": "hTNRdiISUiWr"
      },
      "source": [
        "### Requirements\n",
        "\n",
        "#### 1. Prepare the Data for Modeling\n",
        "\n",
        "#### 2. Build a Baseline kNN Model\n",
        "\n",
        "#### 3. Build Iterative Models to Find the Best kNN Model\n",
        "\n",
        "#### 4. Build a Baseline Decision Tree Model\n",
        "\n",
        "#### 5. Build Iterative Models to Find the Best Decision Tree Model\n",
        "\n",
        "#### 6. Choose and Evaluate an Overall Best Model"
      ]
    },
    {
      "cell_type": "markdown",
      "metadata": {
        "id": "scsVKV4pUiWs"
      },
      "source": [
        "## 1. Prepare the Data for Modeling\n",
        "\n",
        "The target is `Cover_Type`. In the cell below, split `df` into `X` and `y`, then perform a train-test split with `random_state=42` and `stratify=y` to create variables with the standard `X_train`, `X_test`, `y_train`, `y_test` names.\n",
        "\n",
        "Include the relevant imports as you go."
      ]
    },
    {
      "cell_type": "code",
      "execution_count": 3,
      "metadata": {
        "colab": {
          "base_uri": "https://localhost:8080/"
        },
        "id": "RSxI8g1lUiWt",
        "outputId": "794fc3c1-b561-4a7e-d469-4da717e0bcbe"
      },
      "outputs": [
        {
          "output_type": "stream",
          "name": "stdout",
          "text": [
            "       Elevation  Aspect  Slope  Horizontal_Distance_To_Hydrology  \\\n",
            "0           2553     235     17                               351   \n",
            "1           2011     344     17                               313   \n",
            "2           2022      24     13                               391   \n",
            "3           2038      50     17                               408   \n",
            "4           2018     341     27                               351   \n",
            "...          ...     ...    ...                               ...   \n",
            "38496       2396     153     20                                85   \n",
            "38497       2391     152     19                                67   \n",
            "38498       2386     159     17                                60   \n",
            "38499       2384     170     15                                60   \n",
            "38500       2383     165     13                                60   \n",
            "\n",
            "       Vertical_Distance_To_Hydrology  Horizontal_Distance_To_Roadways  \\\n",
            "0                                  95                              780   \n",
            "1                                  29                              404   \n",
            "2                                  42                              509   \n",
            "3                                  71                              474   \n",
            "4                                  34                              390   \n",
            "...                               ...                              ...   \n",
            "38496                              17                              108   \n",
            "38497                              12                               95   \n",
            "38498                               7                               90   \n",
            "38499                               5                               90   \n",
            "38500                               4                               67   \n",
            "\n",
            "       Hillshade_9am  Hillshade_Noon  Hillshade_3pm  \\\n",
            "0                188             253            199   \n",
            "1                183             211            164   \n",
            "2                212             212            134   \n",
            "3                226             200            102   \n",
            "4                152             188            168   \n",
            "...              ...             ...            ...   \n",
            "38496            240             237            118   \n",
            "38497            240             237            119   \n",
            "38498            236             241            130   \n",
            "38499            230             245            143   \n",
            "38500            231             244            141   \n",
            "\n",
            "       Horizontal_Distance_To_Fire_Points  ...  Soil_Type_31  Soil_Type_32  \\\n",
            "0                                    1410  ...             0             0   \n",
            "1                                     300  ...             0             0   \n",
            "2                                     421  ...             0             0   \n",
            "3                                     283  ...             0             0   \n",
            "4                                     190  ...             0             0   \n",
            "...                                   ...  ...           ...           ...   \n",
            "38496                                 837  ...             0             0   \n",
            "38497                                 845  ...             0             0   \n",
            "38498                                 854  ...             0             0   \n",
            "38499                                 864  ...             0             0   \n",
            "38500                                 875  ...             0             0   \n",
            "\n",
            "       Soil_Type_33  Soil_Type_34  Soil_Type_35  Soil_Type_36  Soil_Type_37  \\\n",
            "0                 0             0             0             0             0   \n",
            "1                 0             0             0             0             0   \n",
            "2                 0             0             0             0             0   \n",
            "3                 0             0             0             0             0   \n",
            "4                 0             0             0             0             0   \n",
            "...             ...           ...           ...           ...           ...   \n",
            "38496             0             0             0             0             0   \n",
            "38497             0             0             0             0             0   \n",
            "38498             0             0             0             0             0   \n",
            "38499             0             0             0             0             0   \n",
            "38500             0             0             0             0             0   \n",
            "\n",
            "       Soil_Type_38  Soil_Type_39  Cover_Type  \n",
            "0                 0             0           0  \n",
            "1                 0             0           0  \n",
            "2                 0             0           0  \n",
            "3                 0             0           0  \n",
            "4                 0             0           0  \n",
            "...             ...           ...         ...  \n",
            "38496             0             0           0  \n",
            "38497             0             0           0  \n",
            "38498             0             0           0  \n",
            "38499             0             0           0  \n",
            "38500             0             0           0  \n",
            "\n",
            "[38501 rows x 53 columns]\n"
          ]
        }
      ],
      "source": [
        "# Your code here\n",
        "import pandas as pd\n",
        "import numpy as np\n",
        "from sklearn.model_selection import train_test_split\n",
        "from sklearn.preprocessing import StandardScaler\n",
        "from sklearn.metrics import log_loss\n",
        "df=pd.read_csv('/content/forest_cover (1).csv')\n",
        "print(df)"
      ]
    },
    {
      "cell_type": "markdown",
      "metadata": {
        "id": "2X6tWtUyUiWt"
      },
      "source": [
        "Now, instantiate a `StandardScaler`, fit it on `X_train`, and create new variables `X_train_scaled` and `X_test_scaled` containing values transformed with the scaler."
      ]
    },
    {
      "cell_type": "code",
      "execution_count": 4,
      "metadata": {
        "id": "7fhOKBjzUiWt"
      },
      "outputs": [],
      "source": [
        "# Your code here\n",
        "\n",
        "# Import the relevant function\n",
        "from sklearn.model_selection import train_test_split\n",
        "\n",
        "# Split df into X and y\n",
        "X = df.drop(\"Cover_Type\", axis=1)\n",
        "y = df[\"Cover_Type\"]\n",
        "#test split with random_state=42 and stratify=y\n",
        "X_train, X_test, y_train, y_test = train_test_split(X, y, random_state=42, stratify=y)\n",
        "#now lets instatiate standardscaler\n",
        "from sklearn.preprocessing import StandardScaler\n",
        "scaler= StandardScaler()\n",
        "scaler.fit(X_train)\n",
        "X_train_scaled = scaler.transform(X_train)\n",
        "X_test_scaled = scaler.transform(X_test)"
      ]
    },
    {
      "cell_type": "markdown",
      "metadata": {
        "id": "Stbz5cCKUiWu"
      },
      "source": [
        "The following code checks that everything is set up correctly:"
      ]
    },
    {
      "cell_type": "code",
      "execution_count": 5,
      "metadata": {
        "id": "7JiVp9EPUiWu"
      },
      "outputs": [],
      "source": [
        "# Run this cell without changes\n",
        "\n",
        "# Checking that df was separated into correct X and y\n",
        "assert type(X) == pd.DataFrame and X.shape == (38501, 52)\n",
        "assert type(y) == pd.Series and y.shape == (38501,)\n",
        "\n",
        "# Checking the train-test split\n",
        "assert type(X_train) == pd.DataFrame and X_train.shape == (28875, 52)\n",
        "assert type(X_test) == pd.DataFrame and X_test.shape == (9626, 52)\n",
        "assert type(y_train) == pd.Series and y_train.shape == (28875,)\n",
        "assert type(y_test) == pd.Series and y_test.shape == (9626,)\n",
        "\n",
        "# Checking the scaling\n",
        "assert X_train_scaled.shape == X_train.shape\n",
        "assert round(X_train_scaled[0][0], 3) == -0.636\n",
        "assert X_test_scaled.shape == X_test.shape\n",
        "assert round(X_test_scaled[0][0], 3) == -1.370"
      ]
    },
    {
      "cell_type": "markdown",
      "metadata": {
        "id": "lpqKHZoKUiWu"
      },
      "source": [
        "## 2. Build a Baseline kNN Model\n",
        "\n",
        "Build a scikit-learn kNN model with default hyperparameters. Then use `cross_val_score` with `scoring=\"neg_log_loss\"` to find the mean log loss for this model (passing in `X_train_scaled` and `y_train` to `cross_val_score`). You'll need to find the mean of the cross-validated scores, and negate the value (either put a `-` at the beginning or multiply by `-1`) so that your answer is a log loss rather than a negative log loss.\n",
        "\n",
        "Call the resulting score `knn_baseline_log_loss`.\n",
        "\n",
        "Your code might take a minute or more to run."
      ]
    },
    {
      "cell_type": "code",
      "execution_count": 6,
      "metadata": {
        "id": "-XwLdntnUiWu",
        "colab": {
          "base_uri": "https://localhost:8080/"
        },
        "outputId": "60ee67e2-25e7-4937-b37e-cdb273040c43"
      },
      "outputs": [
        {
          "output_type": "execute_result",
          "data": {
            "text/plain": [
              "np.float64(0.12964546386734577)"
            ]
          },
          "metadata": {},
          "execution_count": 6
        }
      ],
      "source": [
        "# Replace None with appropriate code\n",
        "\n",
        "# Relevant imports\n",
        "from sklearn.neighbors import KNeighborsClassifier\n",
        "from sklearn.model_selection import cross_val_score\n",
        "\n",
        "\n",
        "# Creating the model\n",
        "knn_baseline_model = KNeighborsClassifier()\n",
        "\n",
        "# Perform cross-validation\n",
        "knn_baseline_log_loss =  -cross_val_score(knn_baseline_model, X_train_scaled, y_train, scoring=\"neg_log_loss\").mean()\n",
        "\n",
        "knn_baseline_log_loss"
      ]
    },
    {
      "cell_type": "markdown",
      "metadata": {
        "id": "ae6xGuYMUiWv"
      },
      "source": [
        "Our best logistic regression model had a log loss of 0.13031294393913376\n",
        "\n",
        "Is this model better? Compare it in terms of metrics and speed."
      ]
    },
    {
      "cell_type": "code",
      "execution_count": 7,
      "metadata": {
        "id": "10apmM3pUiWv",
        "colab": {
          "base_uri": "https://localhost:8080/",
          "height": 53
        },
        "outputId": "fe36febd-90ef-410f-af28-d38f03fb8003"
      },
      "outputs": [
        {
          "output_type": "execute_result",
          "data": {
            "text/plain": [
              "'this  model is better in that it faster compaired to with logistic regression model and aslo the best log loss value\\nNone\\n'"
            ],
            "application/vnd.google.colaboratory.intrinsic+json": {
              "type": "string"
            }
          },
          "metadata": {},
          "execution_count": 7
        }
      ],
      "source": [
        "# Replace None with appropriate text\n",
        "\"\"\"this  model is better in that it faster compaired to with logistic regression model and aslo the best log loss value\n",
        "None\n",
        "\"\"\""
      ]
    },
    {
      "cell_type": "markdown",
      "metadata": {
        "id": "hiTvjUQgUiWv"
      },
      "source": [
        "## 3. Build Iterative Models to Find the Best kNN Model\n",
        "\n",
        "Build and evaluate at least two more kNN models to find the best one. Explain why you are changing the hyperparameters you are changing as you go. These models will be *slow* to run, so be thinking about what you might try next as you run them."
      ]
    },
    {
      "cell_type": "code",
      "execution_count": 8,
      "metadata": {
        "id": "aL5tRjUfUiWv",
        "colab": {
          "base_uri": "https://localhost:8080/"
        },
        "outputId": "190d04c0-6406-4984-eff8-0369173b5b30"
      },
      "outputs": [
        {
          "output_type": "stream",
          "name": "stdout",
          "text": [
            "Baseline kNN Log Loss: 0.1296\n"
          ]
        }
      ],
      "source": [
        "# Your code here (add more cells as needed)\n",
        "from sklearn.neighbors import KNeighborsClassifier\n",
        "from sklearn.model_selection import cross_val_score\n",
        "\n",
        "knn_baseline_model = KNeighborsClassifier()\n",
        "\n",
        "knn_baseline_log_loss = -cross_val_score(knn_baseline_model, X_train_scaled, y_train, scoring=\"neg_log_loss\").mean()\n",
        "\n",
        "print(f\"Baseline kNN Log Loss: {knn_baseline_log_loss:.4f}\")\n"
      ]
    },
    {
      "cell_type": "code",
      "execution_count": 9,
      "metadata": {
        "id": "PZBcyZTUUiWv",
        "colab": {
          "base_uri": "https://localhost:8080/"
        },
        "outputId": "42a25203-6b02-4017-b6d8-14f10df321d8"
      },
      "outputs": [
        {
          "output_type": "stream",
          "name": "stdout",
          "text": [
            "k=3 Log Loss: 0.1811\n",
            "k=10 Log Loss: 0.0750\n"
          ]
        }
      ],
      "source": [
        "# Your code here (add more cells as needed)\n",
        "# Try k=3\n",
        "knn_k3 = KNeighborsClassifier(n_neighbors=3)\n",
        "knn_k3_log_loss = -cross_val_score(knn_k3, X_train_scaled, y_train, scoring=\"neg_log_loss\").mean()\n",
        "\n",
        "# Try k=10\n",
        "knn_k10 = KNeighborsClassifier(n_neighbors=10)\n",
        "knn_k10_log_loss = -cross_val_score(knn_k10, X_train_scaled, y_train, scoring=\"neg_log_loss\").mean()\n",
        "\n",
        "print(f\"k=3 Log Loss: {knn_k3_log_loss:.4f}\")\n",
        "print(f\"k=10 Log Loss: {knn_k10_log_loss:.4f}\")\n"
      ]
    },
    {
      "cell_type": "code",
      "execution_count": 10,
      "metadata": {
        "id": "GUvbXNeZUiWv",
        "colab": {
          "base_uri": "https://localhost:8080/"
        },
        "outputId": "fbd28dd3-5aae-43f4-b232-d6592eea72dd"
      },
      "outputs": [
        {
          "output_type": "stream",
          "name": "stdout",
          "text": [
            "Weighted kNN Log Loss: 0.1264\n"
          ]
        }
      ],
      "source": [
        "# Your code here (add more cells as needed)\n",
        "knn_weighted = KNeighborsClassifier(n_neighbors=5, weights='distance')\n",
        "knn_weighted_log_loss = -cross_val_score(knn_weighted, X_train_scaled, y_train, scoring=\"neg_log_loss\").mean()\n",
        "\n",
        "print(f\"Weighted kNN Log Loss: {knn_weighted_log_loss:.4f}\")\n"
      ]
    },
    {
      "cell_type": "code",
      "source": [
        "# Trying different distance metrics\n",
        "knn_manhattan = KNeighborsClassifier(n_neighbors=5, metric='manhattan')\n",
        "manhattan_log_loss = -cross_val_score(knn_manhattan, X_train_scaled, y_train, scoring=\"neg_log_loss\").mean()\n",
        "print(f\"Manhattan Distance (k=5): Log Loss = {manhattan_log_loss:.4f}\")"
      ],
      "metadata": {
        "colab": {
          "base_uri": "https://localhost:8080/"
        },
        "id": "irXYOdd48iDY",
        "outputId": "7eb583ac-6ca9-4848-a875-405800e50f00"
      },
      "execution_count": 11,
      "outputs": [
        {
          "output_type": "stream",
          "name": "stdout",
          "text": [
            "Manhattan Distance (k=5): Log Loss = 0.1181\n"
          ]
        }
      ]
    },
    {
      "cell_type": "code",
      "source": [
        "knn_weighted = KNeighborsClassifier(n_neighbors=5, weights='distance')\n",
        "weighted_log_loss = -cross_val_score(knn_weighted, X_train_scaled, y_train, scoring=\"neg_log_loss\").mean()\n",
        "print(f\"Weighted kNN (k=5): Log Loss = {weighted_log_loss:.4f}\")"
      ],
      "metadata": {
        "colab": {
          "base_uri": "https://localhost:8080/"
        },
        "id": "CtWTARM49M8E",
        "outputId": "4a59bbbb-1ec4-429d-b06d-89e38b20890d"
      },
      "execution_count": 12,
      "outputs": [
        {
          "output_type": "stream",
          "name": "stdout",
          "text": [
            "Weighted kNN (k=5): Log Loss = 0.1264\n"
          ]
        }
      ]
    },
    {
      "cell_type": "markdown",
      "metadata": {
        "id": "ftUAoISgUiWw"
      },
      "source": [
        "## 4. Build a Baseline Decision Tree Model\n",
        "\n",
        "Now that you have chosen your best kNN model, start investigating decision tree models. First, build and evaluate a baseline decision tree model, using default hyperparameters (with the exception of `random_state=42` for reproducibility).\n",
        "\n",
        "(Use cross-validated log loss, just like with the previous models.)"
      ]
    },
    {
      "cell_type": "code",
      "execution_count": 13,
      "metadata": {
        "id": "uIUbpfkHUiWw",
        "colab": {
          "base_uri": "https://localhost:8080/"
        },
        "outputId": "2f2f039b-190e-46ab-9d84-23be48ae0ac5"
      },
      "outputs": [
        {
          "output_type": "execute_result",
          "data": {
            "text/plain": [
              "np.float64(0.7352281158853683)"
            ]
          },
          "metadata": {},
          "execution_count": 13
        }
      ],
      "source": [
        "# Your code here\n",
        "from sklearn.tree import DecisionTreeClassifier\n",
        "\n",
        "dtree_baseline_model = DecisionTreeClassifier(random_state=42)\n",
        "\n",
        "dtree_baseline_log_loss = -cross_val_score(dtree_baseline_model, X_train, y_train, scoring=\"neg_log_loss\").mean()\n",
        "dtree_baseline_log_loss"
      ]
    },
    {
      "cell_type": "markdown",
      "metadata": {
        "id": "C-xCH6XGUiWw"
      },
      "source": [
        "Interpret this score. How does this compare to the log loss from our best logistic regression and best kNN models? Any guesses about why?"
      ]
    },
    {
      "cell_type": "code",
      "execution_count": 14,
      "metadata": {
        "id": "cd6ZdgKJUiWw",
        "colab": {
          "base_uri": "https://localhost:8080/",
          "height": 35
        },
        "outputId": "f826ba31-81a0-432a-8942-0a9d00797fa4"
      },
      "outputs": [
        {
          "output_type": "execute_result",
          "data": {
            "text/plain": [
              "'\\ncompared with all other models this is the worst model becouse it seams to overfit\\n'"
            ],
            "application/vnd.google.colaboratory.intrinsic+json": {
              "type": "string"
            }
          },
          "metadata": {},
          "execution_count": 14
        }
      ],
      "source": [
        "# Replace None with appropriate text\n",
        "\"\"\"\n",
        "compared with all other models this is the worst model becouse it seams to overfit\n",
        "\"\"\""
      ]
    },
    {
      "cell_type": "markdown",
      "metadata": {
        "id": "KqLG2IzqUiWw"
      },
      "source": [
        "## 5. Build Iterative Models to Find the Best Decision Tree Model\n",
        "\n",
        "Build and evaluate at least two more decision tree models to find the best one. Explain why you are changing the hyperparameters you are changing as you go."
      ]
    },
    {
      "cell_type": "code",
      "execution_count": 15,
      "metadata": {
        "id": "n8_Tree6UiWw",
        "colab": {
          "base_uri": "https://localhost:8080/"
        },
        "outputId": "0f8803b8-8ab2-415d-9515-f81acacb860e"
      },
      "outputs": [
        {
          "output_type": "stream",
          "name": "stdout",
          "text": [
            "Depth-Limited Decision Tree Log Loss: 0.3319\n"
          ]
        }
      ],
      "source": [
        "# Your code here (add more cells as needed)\n",
        "# Constrained Decision Tree\n",
        "dtree_depth_limited = DecisionTreeClassifier( max_depth=10,criterion=\"entropy\",random_state=42)\n",
        "\n",
        "# Compute Log Loss\n",
        "depth_limited_log_loss = -cross_val_score(dtree_depth_limited, X_train, y_train, scoring=\"neg_log_loss\", cv=5).mean()\n",
        "\n",
        "print(f\"Depth-Limited Decision Tree Log Loss: {depth_limited_log_loss:.4f}\")\n"
      ]
    },
    {
      "cell_type": "code",
      "execution_count": 16,
      "metadata": {
        "id": "PO_kv3x4UiWw",
        "colab": {
          "base_uri": "https://localhost:8080/"
        },
        "outputId": "1918e856-162c-4bf5-dbd6-d98dca1d8480"
      },
      "outputs": [
        {
          "output_type": "stream",
          "name": "stdout",
          "text": [
            "Regularized Decision Tree Log Loss: 0.2361\n"
          ]
        }
      ],
      "source": [
        "# Your code here (add more cells as needed)\n",
        "# Regularized Decision Tree\n",
        "dtree_regularized = DecisionTreeClassifier(max_depth=10,  min_samples_split=10,  min_samples_leaf=5,   criterion=\"entropy\",random_state=42)\n",
        "\n",
        "# Compute Log Loss\n",
        "regularized_log_loss = -cross_val_score(dtree_regularized, X_train, y_train, scoring=\"neg_log_loss\", cv=5).mean()\n",
        "\n",
        "print(f\"Regularized Decision Tree Log Loss: {regularized_log_loss:.4f}\")\n"
      ]
    },
    {
      "cell_type": "code",
      "execution_count": 17,
      "metadata": {
        "id": "E6hGiCd8UiWx",
        "colab": {
          "base_uri": "https://localhost:8080/"
        },
        "outputId": "5bc853ca-bc86-4ed0-e1c0-f6d0ad409b5a"
      },
      "outputs": [
        {
          "output_type": "stream",
          "name": "stdout",
          "text": [
            "Comparison of Models:\n",
            "Baseline Model Log Loss: 0.7352\n",
            "Depth-Limited Model Log Loss: 0.3319\n",
            "Regularized Model Log Loss: 0.2361\n",
            "Best Model: Regularized Decision Tree\n"
          ]
        }
      ],
      "source": [
        "# Your code here (add more cells as needed)\n",
        "print(\"Comparison of Models:\")\n",
        "print(f\"Baseline Model Log Loss: {dtree_baseline_log_loss:.4f}\")\n",
        "print(f\"Depth-Limited Model Log Loss: {depth_limited_log_loss:.4f}\")\n",
        "print(f\"Regularized Model Log Loss: {regularized_log_loss:.4f}\")\n",
        "\n",
        "# Determine best model\n",
        "best_log_loss = min(dtree_baseline_log_loss, depth_limited_log_loss, regularized_log_loss)\n",
        "if best_log_loss == dtree_baseline_log_loss:\n",
        "    print(\"Best Model: Baseline (No depth restriction)\")\n",
        "elif best_log_loss == depth_limited_log_loss:\n",
        "    print(\"Best Model: Depth-Limited Decision Tree\")\n",
        "else:\n",
        "    print(\"Best Model: Regularized Decision Tree\")"
      ]
    },
    {
      "cell_type": "markdown",
      "metadata": {
        "id": "tH_sTEVSUiWx"
      },
      "source": [
        "## 6. Choose and Evaluate an Overall Best Model\n",
        "\n",
        "Which model had the best performance? What type of model was it?\n",
        "\n",
        "Instantiate a variable `final_model` using your best model with the best hyperparameters."
      ]
    },
    {
      "cell_type": "code",
      "execution_count": 21,
      "metadata": {
        "id": "Kvm9dcJ1UiWx",
        "colab": {
          "base_uri": "https://localhost:8080/",
          "height": 80
        },
        "outputId": "580d1685-8e7e-4bf4-d1e0-dcf06652c665"
      },
      "outputs": [
        {
          "output_type": "execute_result",
          "data": {
            "text/plain": [
              "KNeighborsClassifier(n_neighbors=10)"
            ],
            "text/html": [
              "<style>#sk-container-id-1 {\n",
              "  /* Definition of color scheme common for light and dark mode */\n",
              "  --sklearn-color-text: #000;\n",
              "  --sklearn-color-text-muted: #666;\n",
              "  --sklearn-color-line: gray;\n",
              "  /* Definition of color scheme for unfitted estimators */\n",
              "  --sklearn-color-unfitted-level-0: #fff5e6;\n",
              "  --sklearn-color-unfitted-level-1: #f6e4d2;\n",
              "  --sklearn-color-unfitted-level-2: #ffe0b3;\n",
              "  --sklearn-color-unfitted-level-3: chocolate;\n",
              "  /* Definition of color scheme for fitted estimators */\n",
              "  --sklearn-color-fitted-level-0: #f0f8ff;\n",
              "  --sklearn-color-fitted-level-1: #d4ebff;\n",
              "  --sklearn-color-fitted-level-2: #b3dbfd;\n",
              "  --sklearn-color-fitted-level-3: cornflowerblue;\n",
              "\n",
              "  /* Specific color for light theme */\n",
              "  --sklearn-color-text-on-default-background: var(--sg-text-color, var(--theme-code-foreground, var(--jp-content-font-color1, black)));\n",
              "  --sklearn-color-background: var(--sg-background-color, var(--theme-background, var(--jp-layout-color0, white)));\n",
              "  --sklearn-color-border-box: var(--sg-text-color, var(--theme-code-foreground, var(--jp-content-font-color1, black)));\n",
              "  --sklearn-color-icon: #696969;\n",
              "\n",
              "  @media (prefers-color-scheme: dark) {\n",
              "    /* Redefinition of color scheme for dark theme */\n",
              "    --sklearn-color-text-on-default-background: var(--sg-text-color, var(--theme-code-foreground, var(--jp-content-font-color1, white)));\n",
              "    --sklearn-color-background: var(--sg-background-color, var(--theme-background, var(--jp-layout-color0, #111)));\n",
              "    --sklearn-color-border-box: var(--sg-text-color, var(--theme-code-foreground, var(--jp-content-font-color1, white)));\n",
              "    --sklearn-color-icon: #878787;\n",
              "  }\n",
              "}\n",
              "\n",
              "#sk-container-id-1 {\n",
              "  color: var(--sklearn-color-text);\n",
              "}\n",
              "\n",
              "#sk-container-id-1 pre {\n",
              "  padding: 0;\n",
              "}\n",
              "\n",
              "#sk-container-id-1 input.sk-hidden--visually {\n",
              "  border: 0;\n",
              "  clip: rect(1px 1px 1px 1px);\n",
              "  clip: rect(1px, 1px, 1px, 1px);\n",
              "  height: 1px;\n",
              "  margin: -1px;\n",
              "  overflow: hidden;\n",
              "  padding: 0;\n",
              "  position: absolute;\n",
              "  width: 1px;\n",
              "}\n",
              "\n",
              "#sk-container-id-1 div.sk-dashed-wrapped {\n",
              "  border: 1px dashed var(--sklearn-color-line);\n",
              "  margin: 0 0.4em 0.5em 0.4em;\n",
              "  box-sizing: border-box;\n",
              "  padding-bottom: 0.4em;\n",
              "  background-color: var(--sklearn-color-background);\n",
              "}\n",
              "\n",
              "#sk-container-id-1 div.sk-container {\n",
              "  /* jupyter's `normalize.less` sets `[hidden] { display: none; }`\n",
              "     but bootstrap.min.css set `[hidden] { display: none !important; }`\n",
              "     so we also need the `!important` here to be able to override the\n",
              "     default hidden behavior on the sphinx rendered scikit-learn.org.\n",
              "     See: https://github.com/scikit-learn/scikit-learn/issues/21755 */\n",
              "  display: inline-block !important;\n",
              "  position: relative;\n",
              "}\n",
              "\n",
              "#sk-container-id-1 div.sk-text-repr-fallback {\n",
              "  display: none;\n",
              "}\n",
              "\n",
              "div.sk-parallel-item,\n",
              "div.sk-serial,\n",
              "div.sk-item {\n",
              "  /* draw centered vertical line to link estimators */\n",
              "  background-image: linear-gradient(var(--sklearn-color-text-on-default-background), var(--sklearn-color-text-on-default-background));\n",
              "  background-size: 2px 100%;\n",
              "  background-repeat: no-repeat;\n",
              "  background-position: center center;\n",
              "}\n",
              "\n",
              "/* Parallel-specific style estimator block */\n",
              "\n",
              "#sk-container-id-1 div.sk-parallel-item::after {\n",
              "  content: \"\";\n",
              "  width: 100%;\n",
              "  border-bottom: 2px solid var(--sklearn-color-text-on-default-background);\n",
              "  flex-grow: 1;\n",
              "}\n",
              "\n",
              "#sk-container-id-1 div.sk-parallel {\n",
              "  display: flex;\n",
              "  align-items: stretch;\n",
              "  justify-content: center;\n",
              "  background-color: var(--sklearn-color-background);\n",
              "  position: relative;\n",
              "}\n",
              "\n",
              "#sk-container-id-1 div.sk-parallel-item {\n",
              "  display: flex;\n",
              "  flex-direction: column;\n",
              "}\n",
              "\n",
              "#sk-container-id-1 div.sk-parallel-item:first-child::after {\n",
              "  align-self: flex-end;\n",
              "  width: 50%;\n",
              "}\n",
              "\n",
              "#sk-container-id-1 div.sk-parallel-item:last-child::after {\n",
              "  align-self: flex-start;\n",
              "  width: 50%;\n",
              "}\n",
              "\n",
              "#sk-container-id-1 div.sk-parallel-item:only-child::after {\n",
              "  width: 0;\n",
              "}\n",
              "\n",
              "/* Serial-specific style estimator block */\n",
              "\n",
              "#sk-container-id-1 div.sk-serial {\n",
              "  display: flex;\n",
              "  flex-direction: column;\n",
              "  align-items: center;\n",
              "  background-color: var(--sklearn-color-background);\n",
              "  padding-right: 1em;\n",
              "  padding-left: 1em;\n",
              "}\n",
              "\n",
              "\n",
              "/* Toggleable style: style used for estimator/Pipeline/ColumnTransformer box that is\n",
              "clickable and can be expanded/collapsed.\n",
              "- Pipeline and ColumnTransformer use this feature and define the default style\n",
              "- Estimators will overwrite some part of the style using the `sk-estimator` class\n",
              "*/\n",
              "\n",
              "/* Pipeline and ColumnTransformer style (default) */\n",
              "\n",
              "#sk-container-id-1 div.sk-toggleable {\n",
              "  /* Default theme specific background. It is overwritten whether we have a\n",
              "  specific estimator or a Pipeline/ColumnTransformer */\n",
              "  background-color: var(--sklearn-color-background);\n",
              "}\n",
              "\n",
              "/* Toggleable label */\n",
              "#sk-container-id-1 label.sk-toggleable__label {\n",
              "  cursor: pointer;\n",
              "  display: flex;\n",
              "  width: 100%;\n",
              "  margin-bottom: 0;\n",
              "  padding: 0.5em;\n",
              "  box-sizing: border-box;\n",
              "  text-align: center;\n",
              "  align-items: start;\n",
              "  justify-content: space-between;\n",
              "  gap: 0.5em;\n",
              "}\n",
              "\n",
              "#sk-container-id-1 label.sk-toggleable__label .caption {\n",
              "  font-size: 0.6rem;\n",
              "  font-weight: lighter;\n",
              "  color: var(--sklearn-color-text-muted);\n",
              "}\n",
              "\n",
              "#sk-container-id-1 label.sk-toggleable__label-arrow:before {\n",
              "  /* Arrow on the left of the label */\n",
              "  content: \"▸\";\n",
              "  float: left;\n",
              "  margin-right: 0.25em;\n",
              "  color: var(--sklearn-color-icon);\n",
              "}\n",
              "\n",
              "#sk-container-id-1 label.sk-toggleable__label-arrow:hover:before {\n",
              "  color: var(--sklearn-color-text);\n",
              "}\n",
              "\n",
              "/* Toggleable content - dropdown */\n",
              "\n",
              "#sk-container-id-1 div.sk-toggleable__content {\n",
              "  max-height: 0;\n",
              "  max-width: 0;\n",
              "  overflow: hidden;\n",
              "  text-align: left;\n",
              "  /* unfitted */\n",
              "  background-color: var(--sklearn-color-unfitted-level-0);\n",
              "}\n",
              "\n",
              "#sk-container-id-1 div.sk-toggleable__content.fitted {\n",
              "  /* fitted */\n",
              "  background-color: var(--sklearn-color-fitted-level-0);\n",
              "}\n",
              "\n",
              "#sk-container-id-1 div.sk-toggleable__content pre {\n",
              "  margin: 0.2em;\n",
              "  border-radius: 0.25em;\n",
              "  color: var(--sklearn-color-text);\n",
              "  /* unfitted */\n",
              "  background-color: var(--sklearn-color-unfitted-level-0);\n",
              "}\n",
              "\n",
              "#sk-container-id-1 div.sk-toggleable__content.fitted pre {\n",
              "  /* unfitted */\n",
              "  background-color: var(--sklearn-color-fitted-level-0);\n",
              "}\n",
              "\n",
              "#sk-container-id-1 input.sk-toggleable__control:checked~div.sk-toggleable__content {\n",
              "  /* Expand drop-down */\n",
              "  max-height: 200px;\n",
              "  max-width: 100%;\n",
              "  overflow: auto;\n",
              "}\n",
              "\n",
              "#sk-container-id-1 input.sk-toggleable__control:checked~label.sk-toggleable__label-arrow:before {\n",
              "  content: \"▾\";\n",
              "}\n",
              "\n",
              "/* Pipeline/ColumnTransformer-specific style */\n",
              "\n",
              "#sk-container-id-1 div.sk-label input.sk-toggleable__control:checked~label.sk-toggleable__label {\n",
              "  color: var(--sklearn-color-text);\n",
              "  background-color: var(--sklearn-color-unfitted-level-2);\n",
              "}\n",
              "\n",
              "#sk-container-id-1 div.sk-label.fitted input.sk-toggleable__control:checked~label.sk-toggleable__label {\n",
              "  background-color: var(--sklearn-color-fitted-level-2);\n",
              "}\n",
              "\n",
              "/* Estimator-specific style */\n",
              "\n",
              "/* Colorize estimator box */\n",
              "#sk-container-id-1 div.sk-estimator input.sk-toggleable__control:checked~label.sk-toggleable__label {\n",
              "  /* unfitted */\n",
              "  background-color: var(--sklearn-color-unfitted-level-2);\n",
              "}\n",
              "\n",
              "#sk-container-id-1 div.sk-estimator.fitted input.sk-toggleable__control:checked~label.sk-toggleable__label {\n",
              "  /* fitted */\n",
              "  background-color: var(--sklearn-color-fitted-level-2);\n",
              "}\n",
              "\n",
              "#sk-container-id-1 div.sk-label label.sk-toggleable__label,\n",
              "#sk-container-id-1 div.sk-label label {\n",
              "  /* The background is the default theme color */\n",
              "  color: var(--sklearn-color-text-on-default-background);\n",
              "}\n",
              "\n",
              "/* On hover, darken the color of the background */\n",
              "#sk-container-id-1 div.sk-label:hover label.sk-toggleable__label {\n",
              "  color: var(--sklearn-color-text);\n",
              "  background-color: var(--sklearn-color-unfitted-level-2);\n",
              "}\n",
              "\n",
              "/* Label box, darken color on hover, fitted */\n",
              "#sk-container-id-1 div.sk-label.fitted:hover label.sk-toggleable__label.fitted {\n",
              "  color: var(--sklearn-color-text);\n",
              "  background-color: var(--sklearn-color-fitted-level-2);\n",
              "}\n",
              "\n",
              "/* Estimator label */\n",
              "\n",
              "#sk-container-id-1 div.sk-label label {\n",
              "  font-family: monospace;\n",
              "  font-weight: bold;\n",
              "  display: inline-block;\n",
              "  line-height: 1.2em;\n",
              "}\n",
              "\n",
              "#sk-container-id-1 div.sk-label-container {\n",
              "  text-align: center;\n",
              "}\n",
              "\n",
              "/* Estimator-specific */\n",
              "#sk-container-id-1 div.sk-estimator {\n",
              "  font-family: monospace;\n",
              "  border: 1px dotted var(--sklearn-color-border-box);\n",
              "  border-radius: 0.25em;\n",
              "  box-sizing: border-box;\n",
              "  margin-bottom: 0.5em;\n",
              "  /* unfitted */\n",
              "  background-color: var(--sklearn-color-unfitted-level-0);\n",
              "}\n",
              "\n",
              "#sk-container-id-1 div.sk-estimator.fitted {\n",
              "  /* fitted */\n",
              "  background-color: var(--sklearn-color-fitted-level-0);\n",
              "}\n",
              "\n",
              "/* on hover */\n",
              "#sk-container-id-1 div.sk-estimator:hover {\n",
              "  /* unfitted */\n",
              "  background-color: var(--sklearn-color-unfitted-level-2);\n",
              "}\n",
              "\n",
              "#sk-container-id-1 div.sk-estimator.fitted:hover {\n",
              "  /* fitted */\n",
              "  background-color: var(--sklearn-color-fitted-level-2);\n",
              "}\n",
              "\n",
              "/* Specification for estimator info (e.g. \"i\" and \"?\") */\n",
              "\n",
              "/* Common style for \"i\" and \"?\" */\n",
              "\n",
              ".sk-estimator-doc-link,\n",
              "a:link.sk-estimator-doc-link,\n",
              "a:visited.sk-estimator-doc-link {\n",
              "  float: right;\n",
              "  font-size: smaller;\n",
              "  line-height: 1em;\n",
              "  font-family: monospace;\n",
              "  background-color: var(--sklearn-color-background);\n",
              "  border-radius: 1em;\n",
              "  height: 1em;\n",
              "  width: 1em;\n",
              "  text-decoration: none !important;\n",
              "  margin-left: 0.5em;\n",
              "  text-align: center;\n",
              "  /* unfitted */\n",
              "  border: var(--sklearn-color-unfitted-level-1) 1pt solid;\n",
              "  color: var(--sklearn-color-unfitted-level-1);\n",
              "}\n",
              "\n",
              ".sk-estimator-doc-link.fitted,\n",
              "a:link.sk-estimator-doc-link.fitted,\n",
              "a:visited.sk-estimator-doc-link.fitted {\n",
              "  /* fitted */\n",
              "  border: var(--sklearn-color-fitted-level-1) 1pt solid;\n",
              "  color: var(--sklearn-color-fitted-level-1);\n",
              "}\n",
              "\n",
              "/* On hover */\n",
              "div.sk-estimator:hover .sk-estimator-doc-link:hover,\n",
              ".sk-estimator-doc-link:hover,\n",
              "div.sk-label-container:hover .sk-estimator-doc-link:hover,\n",
              ".sk-estimator-doc-link:hover {\n",
              "  /* unfitted */\n",
              "  background-color: var(--sklearn-color-unfitted-level-3);\n",
              "  color: var(--sklearn-color-background);\n",
              "  text-decoration: none;\n",
              "}\n",
              "\n",
              "div.sk-estimator.fitted:hover .sk-estimator-doc-link.fitted:hover,\n",
              ".sk-estimator-doc-link.fitted:hover,\n",
              "div.sk-label-container:hover .sk-estimator-doc-link.fitted:hover,\n",
              ".sk-estimator-doc-link.fitted:hover {\n",
              "  /* fitted */\n",
              "  background-color: var(--sklearn-color-fitted-level-3);\n",
              "  color: var(--sklearn-color-background);\n",
              "  text-decoration: none;\n",
              "}\n",
              "\n",
              "/* Span, style for the box shown on hovering the info icon */\n",
              ".sk-estimator-doc-link span {\n",
              "  display: none;\n",
              "  z-index: 9999;\n",
              "  position: relative;\n",
              "  font-weight: normal;\n",
              "  right: .2ex;\n",
              "  padding: .5ex;\n",
              "  margin: .5ex;\n",
              "  width: min-content;\n",
              "  min-width: 20ex;\n",
              "  max-width: 50ex;\n",
              "  color: var(--sklearn-color-text);\n",
              "  box-shadow: 2pt 2pt 4pt #999;\n",
              "  /* unfitted */\n",
              "  background: var(--sklearn-color-unfitted-level-0);\n",
              "  border: .5pt solid var(--sklearn-color-unfitted-level-3);\n",
              "}\n",
              "\n",
              ".sk-estimator-doc-link.fitted span {\n",
              "  /* fitted */\n",
              "  background: var(--sklearn-color-fitted-level-0);\n",
              "  border: var(--sklearn-color-fitted-level-3);\n",
              "}\n",
              "\n",
              ".sk-estimator-doc-link:hover span {\n",
              "  display: block;\n",
              "}\n",
              "\n",
              "/* \"?\"-specific style due to the `<a>` HTML tag */\n",
              "\n",
              "#sk-container-id-1 a.estimator_doc_link {\n",
              "  float: right;\n",
              "  font-size: 1rem;\n",
              "  line-height: 1em;\n",
              "  font-family: monospace;\n",
              "  background-color: var(--sklearn-color-background);\n",
              "  border-radius: 1rem;\n",
              "  height: 1rem;\n",
              "  width: 1rem;\n",
              "  text-decoration: none;\n",
              "  /* unfitted */\n",
              "  color: var(--sklearn-color-unfitted-level-1);\n",
              "  border: var(--sklearn-color-unfitted-level-1) 1pt solid;\n",
              "}\n",
              "\n",
              "#sk-container-id-1 a.estimator_doc_link.fitted {\n",
              "  /* fitted */\n",
              "  border: var(--sklearn-color-fitted-level-1) 1pt solid;\n",
              "  color: var(--sklearn-color-fitted-level-1);\n",
              "}\n",
              "\n",
              "/* On hover */\n",
              "#sk-container-id-1 a.estimator_doc_link:hover {\n",
              "  /* unfitted */\n",
              "  background-color: var(--sklearn-color-unfitted-level-3);\n",
              "  color: var(--sklearn-color-background);\n",
              "  text-decoration: none;\n",
              "}\n",
              "\n",
              "#sk-container-id-1 a.estimator_doc_link.fitted:hover {\n",
              "  /* fitted */\n",
              "  background-color: var(--sklearn-color-fitted-level-3);\n",
              "}\n",
              "</style><div id=\"sk-container-id-1\" class=\"sk-top-container\"><div class=\"sk-text-repr-fallback\"><pre>KNeighborsClassifier(n_neighbors=10)</pre><b>In a Jupyter environment, please rerun this cell to show the HTML representation or trust the notebook. <br />On GitHub, the HTML representation is unable to render, please try loading this page with nbviewer.org.</b></div><div class=\"sk-container\" hidden><div class=\"sk-item\"><div class=\"sk-estimator fitted sk-toggleable\"><input class=\"sk-toggleable__control sk-hidden--visually\" id=\"sk-estimator-id-1\" type=\"checkbox\" checked><label for=\"sk-estimator-id-1\" class=\"sk-toggleable__label fitted sk-toggleable__label-arrow\"><div><div>KNeighborsClassifier</div></div><div><a class=\"sk-estimator-doc-link fitted\" rel=\"noreferrer\" target=\"_blank\" href=\"https://scikit-learn.org/1.6/modules/generated/sklearn.neighbors.KNeighborsClassifier.html\">?<span>Documentation for KNeighborsClassifier</span></a><span class=\"sk-estimator-doc-link fitted\">i<span>Fitted</span></span></div></label><div class=\"sk-toggleable__content fitted\"><pre>KNeighborsClassifier(n_neighbors=10)</pre></div> </div></div></div></div>"
            ]
          },
          "metadata": {},
          "execution_count": 21
        }
      ],
      "source": [
        "# Replace None with appropriate code\n",
        "final_model = KNeighborsClassifier(n_neighbors=10)\n",
        "\n",
        "\n",
        "# Fit the model on the full training data\n",
        "# (scaled or unscaled depending on the model)\n",
        "knn_k10_log_loss = -cross_val_score(knn_k10, X_train_scaled, y_train, scoring=\"neg_log_loss\").mean()\n",
        "knn_k10_log_loss\n",
        "final_model.fit(X_train_scaled, y_train)"
      ]
    },
    {
      "cell_type": "markdown",
      "metadata": {
        "id": "kaE6JY2PUiWx"
      },
      "source": [
        "Now, evaluate the log loss, accuracy, precision, and recall. This code is mostly filled in for you, but you need to replace `None` with either `X_test` or `X_test_scaled` depending on the model you chose."
      ]
    },
    {
      "cell_type": "code",
      "execution_count": 22,
      "metadata": {
        "id": "7CiqgRePUiWx",
        "colab": {
          "base_uri": "https://localhost:8080/"
        },
        "outputId": "fddd5b15-e9aa-459b-d39f-838bacd27dfd"
      },
      "outputs": [
        {
          "output_type": "stream",
          "name": "stdout",
          "text": [
            "log loss:  0.085732702402134\n",
            "accuracy:  0.9776646582173281\n",
            "precision: 0.9054982817869416\n",
            "recall:    0.7671033478893741\n"
          ]
        }
      ],
      "source": [
        "# Replace None with appropriate code\n",
        "from sklearn.metrics import accuracy_score, precision_score, recall_score\n",
        "\n",
        "preds = final_model.predict(X_test_scaled)\n",
        "probs = final_model.predict_proba(X_test_scaled)\n",
        "\n",
        "print(\"log loss: \", log_loss(y_test, probs))\n",
        "print(\"accuracy: \", accuracy_score(y_test, preds))\n",
        "print(\"precision:\", precision_score(y_test, preds))\n",
        "print(\"recall:   \", recall_score(y_test, preds))"
      ]
    },
    {
      "cell_type": "markdown",
      "metadata": {
        "id": "FK874WKRUiWx"
      },
      "source": [
        "Interpret your model performance. How would it perform on different kinds of tasks? How much better is it than a \"dummy\" model that always chooses the majority class, or the logistic regression described at the start of the lab?"
      ]
    },
    {
      "cell_type": "code",
      "execution_count": 23,
      "metadata": {
        "id": "yPutPQgTUiWy",
        "colab": {
          "base_uri": "https://localhost:8080/",
          "height": 192
        },
        "outputId": "d89d8ffb-ece1-4c26-9a58-2216fa5895c6"
      },
      "outputs": [
        {
          "output_type": "execute_result",
          "data": {
            "text/plain": [
              "\"\\nLog Loss (0.0857)\\n\\nLog loss measures how well the predicted probabilities align with the actual labels. A lower value indicates better predictions. A log loss of 0.0857 is quite low, suggesting the model's confidence in its predictions is well-calibrated.\\nAccuracy (97.77%)\\n\\nAccuracy indicates the proportion of correctly classified instances out of all predictions. At 97.77%, your model performs exceptionally well in overall classification.\\nPrecision (90.55%)\\n\\nPrecision measures how many of the positive predictions were actually correct. A precision of 90.55% means that when the model predicts a positive class, it is correct 90.55% of the time. This suggests a low rate of false positives.\\nRecall (76.71%)\\n\\nRecall measures how many actual positive instances were correctly predicted. A recall of 76.71% indicates that about 23.29% of actual positives were missed (false negatives). This suggests the model is somewhat conservative in predicting positive cases.\\n\""
            ],
            "application/vnd.google.colaboratory.intrinsic+json": {
              "type": "string"
            }
          },
          "metadata": {},
          "execution_count": 23
        }
      ],
      "source": [
        "# Replace None with appropriate text\n",
        "\"\"\"\n",
        "Log Loss (0.0857)\n",
        "\n",
        "Log loss measures how well the predicted probabilities align with the actual labels. A lower value indicates better predictions. A log loss of 0.0857 is quite low, suggesting the model's confidence in its predictions is well-calibrated.\n",
        "Accuracy (97.77%)\n",
        "\n",
        "Accuracy indicates the proportion of correctly classified instances out of all predictions. At 97.77%, your model performs exceptionally well in overall classification.\n",
        "Precision (90.55%)\n",
        "\n",
        "Precision measures how many of the positive predictions were actually correct. A precision of 90.55% means that when the model predicts a positive class, it is correct 90.55% of the time. This suggests a low rate of false positives.\n",
        "Recall (76.71%)\n",
        "\n",
        "Recall measures how many actual positive instances were correctly predicted. A recall of 76.71% indicates that about 23.29% of actual positives were missed (false negatives). This suggests the model is somewhat conservative in predicting positive cases.\n",
        "\"\"\""
      ]
    },
    {
      "cell_type": "markdown",
      "metadata": {
        "id": "ctRQp13dUiWy"
      },
      "source": [
        "## Conclusion\n",
        "\n",
        "In this lab, you practiced the end-to-end machine learning process with multiple model algorithms, including tuning the hyperparameters for those different algorithms. You saw how nonparametric models can be more flexible than linear models, potentially leading to overfitting but also potentially reducing underfitting by being able to learn non-linear relationships between variables. You also likely saw how there can be a tradeoff between speed and performance, with good metrics correlating with slow speeds."
      ]
    }
  ],
  "metadata": {
    "kernelspec": {
      "display_name": "Python (learn-env)",
      "language": "python",
      "name": "learn-env"
    },
    "language_info": {
      "codemirror_mode": {
        "name": "ipython",
        "version": 3
      },
      "file_extension": ".py",
      "mimetype": "text/x-python",
      "name": "python",
      "nbconvert_exporter": "python",
      "pygments_lexer": "ipython3",
      "version": "3.8.5"
    },
    "colab": {
      "provenance": []
    }
  },
  "nbformat": 4,
  "nbformat_minor": 0
}